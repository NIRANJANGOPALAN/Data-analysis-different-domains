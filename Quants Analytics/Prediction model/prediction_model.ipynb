{
 "cells": [
  {
   "cell_type": "markdown",
   "id": "901514d2",
   "metadata": {},
   "source": [
    "Stock prediction model - EoStart"
   ]
  },
  {
   "cell_type": "code",
   "execution_count": 1,
   "id": "522edbf0",
   "metadata": {},
   "outputs": [],
   "source": [
    "import psycopg2\n",
    "import os\n",
    "from dotenv import load_dotenv"
   ]
  },
  {
   "cell_type": "code",
   "execution_count": null,
   "id": "a45baaf4",
   "metadata": {},
   "outputs": [
    {
     "name": "stdout",
     "output_type": "stream",
     "text": [
      "public.england\n",
      "public.etl_jobs\n",
      "public.userdetails_pms\n",
      "public.data_quality_metrics\n",
      "public.pl_managers_2024_25\n",
      "public.manchester_city_players\n",
      "public.city_stats\n",
      "public.liverpool_players\n",
      "public.others\n",
      "public.customers\n",
      "public.applications\n",
      "public.tottenham_players\n",
      "public.test_etl_table\n",
      "public.alpha\n",
      "public.beta\n",
      "public.flight_bookings\n",
      "public.flight_bookings_test\n",
      "public.products_pms\n"
     ]
    }
   ],
   "source": [
    "# import psycopg2\n",
    "\n",
    "# conn = psycopg2.connect(\n",
    "#     dbname='TestDB',\n",
    "#     user='postgres',\n",
    "#     password='',\n",
    "#     host='localhost',\n",
    "#     port=5432\n",
    "# )\n",
    " \n",
    "# cur = conn.cursor()\n",
    "\n",
    "# # This query lists all tables from all non-system schemas\n",
    "# cur.execute(\"\"\"\n",
    "#     SELECT table_schema, table_name\n",
    "#     FROM information_schema.tables\n",
    "#     WHERE table_type = 'BASE TABLE'\n",
    "#       AND table_schema NOT IN ('pg_catalog', 'information_schema');\n",
    "# \"\"\")\n",
    "\n",
    "# tables = cur.fetchall()\n",
    "# for schema, table in tables:\n",
    "#     print(f\"{schema}.{table}\")\n",
    "\n",
    "# cur.close()\n",
    "# conn.close()\n"
   ]
  }
 ],
 "metadata": {
  "kernelspec": {
   "display_name": "Python 3",
   "language": "python",
   "name": "python3"
  },
  "language_info": {
   "codemirror_mode": {
    "name": "ipython",
    "version": 3
   },
   "file_extension": ".py",
   "mimetype": "text/x-python",
   "name": "python",
   "nbconvert_exporter": "python",
   "pygments_lexer": "ipython3",
   "version": "3.12.3"
  }
 },
 "nbformat": 4,
 "nbformat_minor": 5
}

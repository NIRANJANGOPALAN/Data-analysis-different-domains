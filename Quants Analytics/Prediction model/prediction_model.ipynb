{
 "cells": [
  {
   "cell_type": "markdown",
   "id": "901514d2",
   "metadata": {},
   "source": [
    "Stock prediction model - EoStart"
   ]
  },
  {
   "cell_type": "code",
   "execution_count": null,
   "id": "a45baaf4",
   "metadata": {},
   "outputs": [],
   "source": []
  }
 ],
 "metadata": {
  "language_info": {
   "name": "python"
  }
 },
 "nbformat": 4,
 "nbformat_minor": 5
}

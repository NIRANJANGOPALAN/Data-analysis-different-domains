{
 "cells": [
  {
   "cell_type": "code",
   "execution_count": 2,
   "metadata": {},
   "outputs": [],
   "source": [
    "import requests\n",
    "import json\n",
    "import pandas as pd\n",
    "\n",
    "# Extract\n",
    "url = \"https://environment.data.gov.uk/flood-monitoring/id/floods\"\n",
    "response = requests.get(url)\n",
    "data = response.json()\n",
    "\n",
    "# Transform\n",
    "floods = []\n",
    "for item in data['items']:\n",
    "    flood = {\n",
    "        'id': item['@id'],\n",
    "        'description': item['description'],\n",
    "        'severity': item['severity'],\n",
    "        'severityLevel': item['severityLevel'],\n",
    "        'timeRaised': item['timeRaised'],\n",
    "        'floodAreaID': item['floodAreaID'],\n",
    "        'county': item['floodArea']['county'],\n",
    "        'riverOrSea': item['floodArea']['riverOrSea']\n",
    "    }\n",
    "    floods.append(flood)\n",
    "\n",
    "# Load\n",
    "df = pd.DataFrame(floods)\n",
    "df.to_csv('flood_data.csv', index=False)\n"
   ]
  },
  {
   "cell_type": "code",
   "execution_count": null,
   "metadata": {},
   "outputs": [],
   "source": []
  }
 ],
 "metadata": {
  "kernelspec": {
   "display_name": "Python 3",
   "language": "python",
   "name": "python3"
  },
  "language_info": {
   "codemirror_mode": {
    "name": "ipython",
    "version": 3
   },
   "file_extension": ".py",
   "mimetype": "text/x-python",
   "name": "python",
   "nbconvert_exporter": "python",
   "pygments_lexer": "ipython3",
   "version": "3.12.3"
  }
 },
 "nbformat": 4,
 "nbformat_minor": 2
}
